{
 "cells": [
  {
   "cell_type": "code",
   "execution_count": 1,
   "id": "746c0919",
   "metadata": {},
   "outputs": [],
   "source": [
    "from dulwich.repo import Repo\n",
    "from dulwich import porcelain\n",
    "import difflib\n",
    "import json\n",
    "import mimetypes"
   ]
  },
  {
   "cell_type": "code",
   "execution_count": 2,
   "id": "05c52632",
   "metadata": {},
   "outputs": [],
   "source": [
    "def can_get_file(file):\n",
    "    try:\n",
    "        file.data.decode()\n",
    "        return True\n",
    "    except UnicodeDecodeError:\n",
    "        return False"
   ]
  },
  {
   "cell_type": "code",
   "execution_count": 3,
   "id": "311edebd",
   "metadata": {},
   "outputs": [],
   "source": [
    "def get_diff(repo, entry):\n",
    "    res = {}\n",
    "    for c in entry.changes():\n",
    "        res[str(c.new.path)] = {}\n",
    "\n",
    "        d = difflib.Differ()\n",
    "        #mime = str(mimetypes.guess_type(r.get_object(c.old.sha)))\n",
    "        #print(mime)\n",
    "        #if can_get_file(repo.get_object(c.old.sha)):# and can_get_file(r.get_object(c.new.sha)):\n",
    "        diffs = d.compare(repo.get_object(c.old.sha).data.decode().splitlines(),\\\n",
    "                      repo.get_object(c.new.sha).data.decode().splitlines())\n",
    "\n",
    "        added = 0\n",
    "        deleted = 0\n",
    "        for j in diffs:\n",
    "            if j[0] =='+':\n",
    "                added += 1\n",
    "            elif j[0] =='-':\n",
    "                deleted += 1\n",
    "\n",
    "        res[str(c.new.path)]['added'] = added\n",
    "        res[str(c.new.path)]['deleted'] = deleted\n",
    "    return res"
   ]
  },
  {
   "cell_type": "code",
   "execution_count": 4,
   "id": "4d9c9eeb",
   "metadata": {},
   "outputs": [],
   "source": [
    "def form(repo):\n",
    "    res = {}\n",
    "    i=0\n",
    "    \n",
    "    for c in repo.get_walker():\n",
    "        if i==10:\n",
    "            break\n",
    "        if len(c.commit.parents) <= 1:\n",
    "            res[str(c.commit.author)] = {} \n",
    "            #res[c.commit.author][c.commit.sha().hexdigest()] = {}\n",
    "            res[str(c.commit.author)][str(c.commit.sha().hexdigest())] = get_diff(repo, c)\n",
    "        i += 1\n",
    "            \n",
    "    return res"
   ]
  },
  {
   "cell_type": "code",
   "execution_count": 5,
   "id": "2e8e5335",
   "metadata": {},
   "outputs": [],
   "source": [
    "def repo_to_json(name):\n",
    "    r = Repo(name)\n",
    "    res = json.JSONEncoder().encode(form(r))\n",
    "\n",
    "    with open('res.json','w') as f:\n",
    "        f.write(res)"
   ]
  },
  {
   "cell_type": "code",
   "execution_count": 6,
   "id": "6178d02c",
   "metadata": {},
   "outputs": [],
   "source": [
    "repo_to_json('scikit-learn')"
   ]
  },
  {
   "cell_type": "code",
   "execution_count": null,
   "id": "b37863f0",
   "metadata": {},
   "outputs": [],
   "source": []
  }
 ],
 "metadata": {
  "kernelspec": {
   "display_name": "Python 3 (ipykernel)",
   "language": "python",
   "name": "python3"
  },
  "language_info": {
   "codemirror_mode": {
    "name": "ipython",
    "version": 3
   },
   "file_extension": ".py",
   "mimetype": "text/x-python",
   "name": "python",
   "nbconvert_exporter": "python",
   "pygments_lexer": "ipython3",
   "version": "3.9.6"
  }
 },
 "nbformat": 4,
 "nbformat_minor": 5
}
